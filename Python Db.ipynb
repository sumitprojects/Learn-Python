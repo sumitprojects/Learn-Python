{
 "cells": [
  {
   "cell_type": "code",
   "execution_count": 2,
   "metadata": {},
   "outputs": [
    {
     "name": "stdout",
     "output_type": "stream",
     "text": [
      "---------------------------------------------------------------\n",
      "---------------------------------------------------------------\n",
      "1 record inserted.\n"
     ]
    }
   ],
   "source": [
    "#!pip install mysql-connector-python\n",
    "#https://pypi.org/project/mysql-connector-python/\n",
    "\n",
    "import mysql.connector\n",
    "\n",
    "mydb = mysql.connector.connect(\n",
    "  host=\"localhost\",\n",
    "  user=\"root\",\n",
    "  password=\"mysql\",\n",
    "  database=\"student_mgnt\"\n",
    ")\n",
    "# cursor select,insert,create,update,delete processing \n",
    "mycursor = mydb.cursor()\n",
    "\n",
    "# mycursor.execute(\"SELECT * FROM tbl_employee\")\n",
    "\n",
    "# myresult = mycursor.fetchall()\n",
    "\n",
    "# for x in myresult:\n",
    "#     print(x)\n",
    "    \n",
    "# print(\"---------------------------------------------------------------\")\n",
    "# mycursor.execute(\"SELECT * FROM tbl_employee where emp_gender = 'female'\")\n",
    "\n",
    "# myresult = mycursor.fetchone()\n",
    "\n",
    "# print(myresult)\n",
    "print(\"---------------------------------------------------------------\")\n",
    "print(\"---------------------------------------------------------------\")\n",
    "\n",
    "# parameter binding [late binding] preventing sql injection\n",
    "sql = \"INSERT INTO `tbl_employee`(`emp_name`, `emp_pass`, `emp_sal`, `emp_bonus`, `emp_dob`, `emp_mob_no`, `emp_address`) VALUES (%s,%s,%s,%s,%s,%s,%s)\"\n",
    "val = ('chinmay','mysql','10340.00','2000','1992-09-09','91-887-990-6543','Surat,Gujarat')\n",
    "\n",
    "mycursor.execute(sql, val)\n",
    "# insert, update, delete, create, alter\n",
    "mydb.commit()\n",
    "\n",
    "print(mycursor.rowcount, \"record inserted.\")"
   ]
  },
  {
   "cell_type": "code",
   "execution_count": 3,
   "metadata": {},
   "outputs": [
    {
     "name": "stdout",
     "output_type": "stream",
     "text": [
      "1 record updated.\n"
     ]
    }
   ],
   "source": [
    "mycursor = mydb.cursor()\n",
    "sql = \"update `tbl_employee` set `emp_name` = %s where emp_id = %s\"\n",
    "val = ('Chinmay','25')\n",
    "\n",
    "mycursor.execute(sql, val)\n",
    "# insert, update, delete, create, alter\n",
    "mydb.commit()\n",
    "\n",
    "print(mycursor.rowcount, \"record updated.\")"
   ]
  },
  {
   "cell_type": "code",
   "execution_count": 7,
   "metadata": {},
   "outputs": [
    {
     "name": "stdout",
     "output_type": "stream",
     "text": [
      "1 record deleted.\n"
     ]
    }
   ],
   "source": [
    "mycursor = mydb.cursor()\n",
    "sql = \"DELETE FROM `tbl_employee` WHERE emp_id = 3\"\n",
    "\n",
    "mycursor.execute(sql)\n",
    "# insert, update, delete, create, alter\n",
    "mydb.commit()\n",
    "\n",
    "print(mycursor.rowcount, \"record deleted.\")"
   ]
  },
  {
   "cell_type": "code",
   "execution_count": null,
   "metadata": {},
   "outputs": [],
   "source": []
  }
 ],
 "metadata": {
  "kernelspec": {
   "display_name": "Python 3",
   "language": "python",
   "name": "python3"
  },
  "language_info": {
   "codemirror_mode": {
    "name": "ipython",
    "version": 3
   },
   "file_extension": ".py",
   "mimetype": "text/x-python",
   "name": "python",
   "nbconvert_exporter": "python",
   "pygments_lexer": "ipython3",
   "version": "3.7.6"
  }
 },
 "nbformat": 4,
 "nbformat_minor": 4
}
