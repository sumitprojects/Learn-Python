{
  "nbformat": 4,
  "nbformat_minor": 0,
  "metadata": {
    "kernelspec": {
      "display_name": "Python 3",
      "language": "python",
      "name": "python3"
    },
    "language_info": {
      "codemirror_mode": {
        "name": "ipython",
        "version": 3
      },
      "file_extension": ".py",
      "mimetype": "text/x-python",
      "name": "python",
      "nbconvert_exporter": "python",
      "pygments_lexer": "ipython3",
      "version": "3.7.4"
    },
    "colab": {
      "name": "Copy of Numpy Indexing and Selection.ipynb",
      "provenance": [],
      "collapsed_sections": [
        "i5LCbfr3dPGY"
      ]
    }
  },
  "cells": [
    {
      "cell_type": "code",
      "metadata": {
        "id": "6RY5grUzdPEE",
        "colab_type": "code",
        "colab": {}
      },
      "source": [
        "import numpy as np"
      ],
      "execution_count": null,
      "outputs": []
    },
    {
      "cell_type": "code",
      "metadata": {
        "id": "RZbSlJ18dPEU",
        "colab_type": "code",
        "colab": {}
      },
      "source": [
        "arr = np.arange(0,11)"
      ],
      "execution_count": null,
      "outputs": []
    },
    {
      "cell_type": "code",
      "metadata": {
        "id": "rizWXcn9dPEl",
        "colab_type": "code",
        "colab": {
          "base_uri": "https://localhost:8080/",
          "height": 35
        },
        "outputId": "9f949337-84bf-4c80-c34b-9a7a9d086fe6"
      },
      "source": [
        "arr"
      ],
      "execution_count": null,
      "outputs": [
        {
          "output_type": "execute_result",
          "data": {
            "text/plain": [
              "array([ 0,  1,  2,  3,  4,  5,  6,  7,  8,  9, 10])"
            ]
          },
          "metadata": {
            "tags": []
          },
          "execution_count": 4
        }
      ]
    },
    {
      "cell_type": "markdown",
      "metadata": {
        "id": "fOVTQIe7dPEy",
        "colab_type": "text"
      },
      "source": [
        "## Bracket Indexing and Selection"
      ]
    },
    {
      "cell_type": "code",
      "metadata": {
        "id": "ebZNNd0DdPE0",
        "colab_type": "code",
        "colab": {
          "base_uri": "https://localhost:8080/",
          "height": 35
        },
        "outputId": "0aa74e3d-5d4b-4538-a222-5b48a20c682f"
      },
      "source": [
        "arr[9]"
      ],
      "execution_count": null,
      "outputs": [
        {
          "output_type": "execute_result",
          "data": {
            "text/plain": [
              "9"
            ]
          },
          "metadata": {
            "tags": []
          },
          "execution_count": 5
        }
      ]
    },
    {
      "cell_type": "code",
      "metadata": {
        "id": "7gZ_b0GAdPFB",
        "colab_type": "code",
        "colab": {
          "base_uri": "https://localhost:8080/",
          "height": 35
        },
        "outputId": "97727ca1-282e-41a3-c0c1-2e602057f042"
      },
      "source": [
        "arr[:5]"
      ],
      "execution_count": null,
      "outputs": [
        {
          "output_type": "execute_result",
          "data": {
            "text/plain": [
              "array([0, 1, 2, 3, 4])"
            ]
          },
          "metadata": {
            "tags": []
          },
          "execution_count": 6
        }
      ]
    },
    {
      "cell_type": "code",
      "metadata": {
        "id": "v5eyERMRdPFN",
        "colab_type": "code",
        "colab": {
          "base_uri": "https://localhost:8080/",
          "height": 35
        },
        "outputId": "d4353ba5-6b78-43e5-8c9b-9e13dc8aeb3a"
      },
      "source": [
        "arr[1:5]"
      ],
      "execution_count": null,
      "outputs": [
        {
          "output_type": "execute_result",
          "data": {
            "text/plain": [
              "array([1, 2, 3, 4])"
            ]
          },
          "metadata": {
            "tags": []
          },
          "execution_count": 7
        }
      ]
    },
    {
      "cell_type": "markdown",
      "metadata": {
        "id": "ujqv57kidPFZ",
        "colab_type": "text"
      },
      "source": [
        "### Broadcasting\n",
        "\n",
        "Numpy arrays will differ from normal python list because of their ability to broadcast"
      ]
    },
    {
      "cell_type": "code",
      "metadata": {
        "id": "CWxDq5u9dPFb",
        "colab_type": "code",
        "colab": {
          "base_uri": "https://localhost:8080/",
          "height": 35
        },
        "outputId": "9d974561-7a24-42c6-f0f6-de03d0117ae8"
      },
      "source": [
        "arr"
      ],
      "execution_count": null,
      "outputs": [
        {
          "output_type": "execute_result",
          "data": {
            "text/plain": [
              "array([ 0,  1,  2,  3,  4,  5,  6,  7,  8,  9, 10])"
            ]
          },
          "metadata": {
            "tags": []
          },
          "execution_count": 8
        }
      ]
    },
    {
      "cell_type": "code",
      "metadata": {
        "id": "Via9itzbdPFn",
        "colab_type": "code",
        "colab": {
          "base_uri": "https://localhost:8080/",
          "height": 35
        },
        "outputId": "3291556e-8300-4b8b-96c6-3abef697c29d"
      },
      "source": [
        "arr[0:5]"
      ],
      "execution_count": null,
      "outputs": [
        {
          "output_type": "execute_result",
          "data": {
            "text/plain": [
              "array([0, 1, 2, 3, 4])"
            ]
          },
          "metadata": {
            "tags": []
          },
          "execution_count": 9
        }
      ]
    },
    {
      "cell_type": "code",
      "metadata": {
        "id": "_EmHC2ltdPFu",
        "colab_type": "code",
        "colab": {}
      },
      "source": [
        "arr[0:5] = 99"
      ],
      "execution_count": null,
      "outputs": []
    },
    {
      "cell_type": "code",
      "metadata": {
        "id": "UHv6PHm6dPF0",
        "colab_type": "code",
        "colab": {
          "base_uri": "https://localhost:8080/",
          "height": 35
        },
        "outputId": "15d6f3e8-79d2-41aa-9a26-86f61f691e1c"
      },
      "source": [
        "arr"
      ],
      "execution_count": null,
      "outputs": [
        {
          "output_type": "execute_result",
          "data": {
            "text/plain": [
              "array([99, 99, 99, 99, 99,  5,  6,  7,  8,  9, 10])"
            ]
          },
          "metadata": {
            "tags": []
          },
          "execution_count": 11
        }
      ]
    },
    {
      "cell_type": "code",
      "metadata": {
        "id": "q44QoxVmdPF7",
        "colab_type": "code",
        "colab": {
          "base_uri": "https://localhost:8080/",
          "height": 35
        },
        "outputId": "762b6272-784b-4683-d41a-b2d84e069447"
      },
      "source": [
        "slicearr = arr[0:6]\n",
        "slicearr"
      ],
      "execution_count": null,
      "outputs": [
        {
          "output_type": "execute_result",
          "data": {
            "text/plain": [
              "array([99, 99, 99, 99, 99,  5])"
            ]
          },
          "metadata": {
            "tags": []
          },
          "execution_count": 12
        }
      ]
    },
    {
      "cell_type": "code",
      "metadata": {
        "id": "7n9U857wdPGF",
        "colab_type": "code",
        "colab": {
          "base_uri": "https://localhost:8080/",
          "height": 35
        },
        "outputId": "9ea45b78-29b3-4d11-877b-0a49b1de3c39"
      },
      "source": [
        "slicearr[:] = 100\n",
        "slicearr"
      ],
      "execution_count": null,
      "outputs": [
        {
          "output_type": "execute_result",
          "data": {
            "text/plain": [
              "array([100, 100, 100, 100, 100, 100])"
            ]
          },
          "metadata": {
            "tags": []
          },
          "execution_count": 13
        }
      ]
    },
    {
      "cell_type": "code",
      "metadata": {
        "id": "2ctbahqGdPGM",
        "colab_type": "code",
        "colab": {
          "base_uri": "https://localhost:8080/",
          "height": 35
        },
        "outputId": "1b556fa9-054e-477d-ec7d-f54414d1e5c4"
      },
      "source": [
        "arr"
      ],
      "execution_count": null,
      "outputs": [
        {
          "output_type": "execute_result",
          "data": {
            "text/plain": [
              "array([100, 100, 100, 100, 100, 100,   6,   7,   8,   9,  10])"
            ]
          },
          "metadata": {
            "tags": []
          },
          "execution_count": 14
        }
      ]
    },
    {
      "cell_type": "code",
      "metadata": {
        "id": "KGKp5oledPGR",
        "colab_type": "code",
        "colab": {
          "base_uri": "https://localhost:8080/",
          "height": 35
        },
        "outputId": "ffedcd0c-b815-487f-c45d-c6e7824334ca"
      },
      "source": [
        "arr_copy = arr.copy()\n",
        "\n",
        "arr_copy"
      ],
      "execution_count": null,
      "outputs": [
        {
          "output_type": "execute_result",
          "data": {
            "text/plain": [
              "array([100, 100, 100, 100, 100, 100,   6,   7,   8,   9,  10])"
            ]
          },
          "metadata": {
            "tags": []
          },
          "execution_count": 15
        }
      ]
    },
    {
      "cell_type": "markdown",
      "metadata": {
        "id": "i5LCbfr3dPGY",
        "colab_type": "text"
      },
      "source": [
        "### Selection"
      ]
    },
    {
      "cell_type": "code",
      "metadata": {
        "id": "9viK59AtdPGZ",
        "colab_type": "code",
        "colab": {}
      },
      "source": [
        "arr = np.arange(1,11)"
      ],
      "execution_count": null,
      "outputs": []
    },
    {
      "cell_type": "code",
      "metadata": {
        "id": "LYrS0ILTdPGd",
        "colab_type": "code",
        "colab": {
          "base_uri": "https://localhost:8080/"
        },
        "outputId": "4e0830bc-c7e6-4211-c5ad-6e665c4493df"
      },
      "source": [
        "arr"
      ],
      "execution_count": null,
      "outputs": [
        {
          "output_type": "execute_result",
          "data": {
            "text/plain": [
              "array([ 1,  2,  3,  4,  5,  6,  7,  8,  9, 10])"
            ]
          },
          "metadata": {
            "tags": []
          },
          "execution_count": 17
        }
      ]
    },
    {
      "cell_type": "code",
      "metadata": {
        "id": "om_cA6BRdPGj",
        "colab_type": "code",
        "colab": {}
      },
      "source": [
        "barr = arr > 4"
      ],
      "execution_count": null,
      "outputs": []
    },
    {
      "cell_type": "code",
      "metadata": {
        "id": "APmqpL_-dPGr",
        "colab_type": "code",
        "colab": {
          "base_uri": "https://localhost:8080/"
        },
        "outputId": "49d947c0-9782-4f7d-dbd1-6829ae1f79b7"
      },
      "source": [
        "arr[arr>4]"
      ],
      "execution_count": null,
      "outputs": [
        {
          "output_type": "execute_result",
          "data": {
            "text/plain": [
              "array([ 5,  6,  7,  8,  9, 10])"
            ]
          },
          "metadata": {
            "tags": []
          },
          "execution_count": 19
        }
      ]
    },
    {
      "cell_type": "code",
      "metadata": {
        "id": "sKMEfYPZdPGx",
        "colab_type": "code",
        "colab": {
          "base_uri": "https://localhost:8080/"
        },
        "outputId": "aa919d7a-136d-4d90-f4c5-bd4ed0f07c50"
      },
      "source": [
        "arr[barr]"
      ],
      "execution_count": null,
      "outputs": [
        {
          "output_type": "execute_result",
          "data": {
            "text/plain": [
              "array([ 5,  6,  7,  8,  9, 10])"
            ]
          },
          "metadata": {
            "tags": []
          },
          "execution_count": 20
        }
      ]
    },
    {
      "cell_type": "markdown",
      "metadata": {
        "id": "ArBiUC0ZdPG1",
        "colab_type": "text"
      },
      "source": [
        "## shallow and deep copy"
      ]
    },
    {
      "cell_type": "code",
      "metadata": {
        "id": "Weu3bfbsdPG2",
        "colab_type": "code",
        "colab": {}
      },
      "source": [
        "xx = [[1,2,3],[4,5,6],[7,8,9]]\n",
        "yy = list(xx) # Making a shallow copy"
      ],
      "execution_count": null,
      "outputs": []
    },
    {
      "cell_type": "markdown",
      "metadata": {
        "id": "UPzhk4HKdPG9",
        "colab_type": "text"
      },
      "source": [
        "The above operation is shallow copy\n",
        "\n",
        "yy will be a new and independent object with same content as xx."
      ]
    },
    {
      "cell_type": "code",
      "metadata": {
        "id": "Ure38905dPG_",
        "colab_type": "code",
        "colab": {
          "base_uri": "https://localhost:8080/",
          "height": 35
        },
        "outputId": "0cde6ffc-5264-4317-9aa5-a7b67a0a63d5"
      },
      "source": [
        "xx"
      ],
      "execution_count": null,
      "outputs": [
        {
          "output_type": "execute_result",
          "data": {
            "text/plain": [
              "[[1, 2, 3], [4, 5, 6], [7, 8, 9]]"
            ]
          },
          "metadata": {
            "tags": []
          },
          "execution_count": 22
        }
      ]
    },
    {
      "cell_type": "code",
      "metadata": {
        "id": "2YsAY9UYdPHE",
        "colab_type": "code",
        "colab": {
          "base_uri": "https://localhost:8080/",
          "height": 35
        },
        "outputId": "7e3aaaaf-dd2f-4f37-d34c-696894851485"
      },
      "source": [
        "yy"
      ],
      "execution_count": null,
      "outputs": [
        {
          "output_type": "execute_result",
          "data": {
            "text/plain": [
              "[[1, 2, 3], [4, 5, 6], [7, 8, 9]]"
            ]
          },
          "metadata": {
            "tags": []
          },
          "execution_count": 23
        }
      ]
    },
    {
      "cell_type": "code",
      "metadata": {
        "id": "ENzgPygGdPHJ",
        "colab_type": "code",
        "colab": {}
      },
      "source": [
        "xx.append(['new list nested'])"
      ],
      "execution_count": null,
      "outputs": []
    },
    {
      "cell_type": "code",
      "metadata": {
        "id": "Tpk32W0VdPHP",
        "colab_type": "code",
        "colab": {
          "base_uri": "https://localhost:8080/",
          "height": 35
        },
        "outputId": "8c9a6477-6f4e-411c-9f7c-2f01dc67687b"
      },
      "source": [
        "xx"
      ],
      "execution_count": null,
      "outputs": [
        {
          "output_type": "execute_result",
          "data": {
            "text/plain": [
              "[[1, 2, 3], [4, 5, 6], [7, 8, 9], ['new list nested']]"
            ]
          },
          "metadata": {
            "tags": []
          },
          "execution_count": 25
        }
      ]
    },
    {
      "cell_type": "code",
      "metadata": {
        "id": "3I0_sWmodPHW",
        "colab_type": "code",
        "colab": {
          "base_uri": "https://localhost:8080/",
          "height": 35
        },
        "outputId": "536ab7e4-f11f-4924-8207-1149c8f0eb9f"
      },
      "source": [
        "yy"
      ],
      "execution_count": null,
      "outputs": [
        {
          "output_type": "execute_result",
          "data": {
            "text/plain": [
              "[[1, 2, 3], [4, 5, 6], [7, 8, 9]]"
            ]
          },
          "metadata": {
            "tags": []
          },
          "execution_count": 26
        }
      ]
    },
    {
      "cell_type": "code",
      "metadata": {
        "id": "b2swe1x_dPHd",
        "colab_type": "code",
        "colab": {}
      },
      "source": [
        "xx[1][0] = 99999"
      ],
      "execution_count": null,
      "outputs": []
    },
    {
      "cell_type": "code",
      "metadata": {
        "id": "O8YQGTwydPHk",
        "colab_type": "code",
        "colab": {
          "base_uri": "https://localhost:8080/",
          "height": 35
        },
        "outputId": "78a08cf1-b2ae-4e47-c771-57b6be33f67c"
      },
      "source": [
        "xx"
      ],
      "execution_count": null,
      "outputs": [
        {
          "output_type": "execute_result",
          "data": {
            "text/plain": [
              "[[1, 2, 3], [99999, 5, 6], [7, 8, 9], ['new list nested']]"
            ]
          },
          "metadata": {
            "tags": []
          },
          "execution_count": 28
        }
      ]
    },
    {
      "cell_type": "code",
      "metadata": {
        "id": "iP17_ClydPHr",
        "colab_type": "code",
        "colab": {
          "base_uri": "https://localhost:8080/",
          "height": 35
        },
        "outputId": "d2c0c433-799f-40f9-e68f-44dd7d109018"
      },
      "source": [
        "yy"
      ],
      "execution_count": null,
      "outputs": [
        {
          "output_type": "execute_result",
          "data": {
            "text/plain": [
              "[[1, 2, 3], [99999, 5, 6], [7, 8, 9]]"
            ]
          },
          "metadata": {
            "tags": []
          },
          "execution_count": 29
        }
      ]
    },
    {
      "cell_type": "markdown",
      "metadata": {
        "id": "WqA3cQEvdPHv",
        "colab_type": "text"
      },
      "source": [
        "### Deep Copy"
      ]
    },
    {
      "cell_type": "code",
      "metadata": {
        "id": "Kzi1Gn0vdPHw",
        "colab_type": "code",
        "colab": {}
      },
      "source": [
        "import copy"
      ],
      "execution_count": null,
      "outputs": []
    },
    {
      "cell_type": "code",
      "metadata": {
        "id": "ggsSj_HadPH2",
        "colab_type": "code",
        "colab": {}
      },
      "source": [
        "xxd =[[1,2,3],[4,5,6],[7,8,9]]\n",
        "zz = copy.deepcopy(xxd)\n"
      ],
      "execution_count": null,
      "outputs": []
    },
    {
      "cell_type": "code",
      "metadata": {
        "id": "qQptmSMtdPH9",
        "colab_type": "code",
        "colab": {
          "base_uri": "https://localhost:8080/",
          "height": 35
        },
        "outputId": "2521b7fa-72cc-4101-b3cb-6f95059d1e11"
      },
      "source": [
        "xxd"
      ],
      "execution_count": null,
      "outputs": [
        {
          "output_type": "execute_result",
          "data": {
            "text/plain": [
              "[[1, 2, 3], [4, 5, 6], [7, 8, 9]]"
            ]
          },
          "metadata": {
            "tags": []
          },
          "execution_count": 32
        }
      ]
    },
    {
      "cell_type": "code",
      "metadata": {
        "id": "6FRGisJwdPIC",
        "colab_type": "code",
        "colab": {
          "base_uri": "https://localhost:8080/",
          "height": 35
        },
        "outputId": "cefcd15e-65f1-4412-ae0c-4378994eb9da"
      },
      "source": [
        "zz"
      ],
      "execution_count": null,
      "outputs": [
        {
          "output_type": "execute_result",
          "data": {
            "text/plain": [
              "[[1, 2, 3], [4, 5, 6], [7, 8, 9]]"
            ]
          },
          "metadata": {
            "tags": []
          },
          "execution_count": 33
        }
      ]
    },
    {
      "cell_type": "code",
      "metadata": {
        "id": "rJr0F0VudPIH",
        "colab_type": "code",
        "colab": {}
      },
      "source": [
        "xxd[1][0] ='XXXXX'"
      ],
      "execution_count": null,
      "outputs": []
    },
    {
      "cell_type": "code",
      "metadata": {
        "id": "UAziKQQqdPIM",
        "colab_type": "code",
        "colab": {
          "base_uri": "https://localhost:8080/",
          "height": 35
        },
        "outputId": "41dce185-116c-4750-d5c7-b4bfd2e6c5d9"
      },
      "source": [
        "xxd"
      ],
      "execution_count": null,
      "outputs": [
        {
          "output_type": "execute_result",
          "data": {
            "text/plain": [
              "[[1, 2, 3], ['XXXXX', 5, 6], [7, 8, 9]]"
            ]
          },
          "metadata": {
            "tags": []
          },
          "execution_count": 35
        }
      ]
    },
    {
      "cell_type": "code",
      "metadata": {
        "id": "8ILmBXgwdPIT",
        "colab_type": "code",
        "colab": {
          "base_uri": "https://localhost:8080/",
          "height": 35
        },
        "outputId": "771866c8-9842-4040-b9de-cc0f67cbed78"
      },
      "source": [
        "zz"
      ],
      "execution_count": null,
      "outputs": [
        {
          "output_type": "execute_result",
          "data": {
            "text/plain": [
              "[[1, 2, 3], [4, 5, 6], [7, 8, 9]]"
            ]
          },
          "metadata": {
            "tags": []
          },
          "execution_count": 36
        }
      ]
    },
    {
      "cell_type": "markdown",
      "metadata": {
        "id": "GQcBj5cMGmDc",
        "colab_type": "text"
      },
      "source": [
        "#Iteration in Numpy\n"
      ]
    },
    {
      "cell_type": "code",
      "metadata": {
        "id": "LwubFtjwdPIY",
        "colab_type": "code",
        "colab": {
          "base_uri": "https://localhost:8080/",
          "height": 221
        },
        "outputId": "5291274e-0587-4002-9bde-38e98ce84ece"
      },
      "source": [
        "arr = np.array([[[1, 2, 4], [3, 4, 8] ], [[5, 6, 9], [7, 8, 89]] , [[10, 23, 44], [34, 44, 83]]])\n",
        "# for x in arr:\n",
        "#   for y in x:\n",
        "#     for z in y:\n",
        "#       print(z)\n",
        "\n",
        "#print(arr.shape)\n",
        "#print(arr[:][:][::2])\n",
        "for x in np.nditer(arr[:,:,::2]):\n",
        "   print(x)"
      ],
      "execution_count": 20,
      "outputs": [
        {
          "output_type": "stream",
          "text": [
            "1\n",
            "4\n",
            "3\n",
            "8\n",
            "5\n",
            "9\n",
            "7\n",
            "89\n",
            "10\n",
            "44\n",
            "34\n",
            "83\n"
          ],
          "name": "stdout"
        }
      ]
    },
    {
      "cell_type": "code",
      "metadata": {
        "id": "KNDRhDRoG75z",
        "colab_type": "code",
        "colab": {
          "base_uri": "https://localhost:8080/",
          "height": 72
        },
        "outputId": "ce239be8-2038-41be-d88e-df76f43e4128"
      },
      "source": [
        "arr = np.array([1, 2, 3])\n",
        "\n",
        "for x in np.nditer(arr, flags=['buffered'], op_dtypes=['S']):\n",
        "  print(x)\n"
      ],
      "execution_count": null,
      "outputs": [
        {
          "output_type": "stream",
          "text": [
            "b'1'\n",
            "b'2'\n",
            "b'3'\n"
          ],
          "name": "stdout"
        }
      ]
    },
    {
      "cell_type": "code",
      "metadata": {
        "id": "Pxai1PJLHCGe",
        "colab_type": "code",
        "colab": {
          "base_uri": "https://localhost:8080/",
          "height": 119
        },
        "outputId": "e3943fe4-46a9-41c8-fca6-2592d34a4f64"
      },
      "source": [
        "arr = np.array([[1, 2, 3, 4], [5, 6, 7, 8],[8, 9, 88, 90]])\n",
        "\n",
        "for x in np.nditer(arr[:, ::2]):\n",
        "  print(x)"
      ],
      "execution_count": 19,
      "outputs": [
        {
          "output_type": "stream",
          "text": [
            "1\n",
            "3\n",
            "5\n",
            "7\n",
            "8\n",
            "88\n"
          ],
          "name": "stdout"
        }
      ]
    },
    {
      "cell_type": "code",
      "metadata": {
        "id": "pBmws_9HHIJZ",
        "colab_type": "code",
        "colab": {
          "base_uri": "https://localhost:8080/",
          "height": 72
        },
        "outputId": "a53f957e-f780-4f3d-d6c5-e5de2d59c195"
      },
      "source": [
        "arr = np.array([1, 2, 3])\n",
        "\n",
        "for idx, x in np.ndenumerate(arr):\n",
        "  print(idx, x)"
      ],
      "execution_count": null,
      "outputs": [
        {
          "output_type": "stream",
          "text": [
            "(0,) 1\n",
            "(1,) 2\n",
            "(2,) 3\n"
          ],
          "name": "stdout"
        }
      ]
    },
    {
      "cell_type": "markdown",
      "metadata": {
        "id": "y1GmypS2HXLr",
        "colab_type": "text"
      },
      "source": [
        "#Joining"
      ]
    },
    {
      "cell_type": "code",
      "metadata": {
        "id": "OUYH6sr_Hand",
        "colab_type": "code",
        "colab": {
          "base_uri": "https://localhost:8080/",
          "height": 35
        },
        "outputId": "dfdfc697-e572-4ffc-ffe9-45920c6da2d8"
      },
      "source": [
        "arr1 = np.array([1, 2, 3])\n",
        "\n",
        "arr2 = np.array([4, 5, 6])\n",
        "\n",
        "arr = np.concatenate((arr1, arr2))\n",
        "\n",
        "print(arr)"
      ],
      "execution_count": null,
      "outputs": [
        {
          "output_type": "stream",
          "text": [
            "[1 2 3 4 5 6]\n"
          ],
          "name": "stdout"
        }
      ]
    },
    {
      "cell_type": "code",
      "metadata": {
        "id": "Kd_oK6vDHrGW",
        "colab_type": "code",
        "colab": {
          "base_uri": "https://localhost:8080/",
          "height": 72
        },
        "outputId": "56abd74f-630a-4bd9-e6c7-09fa78cab26f"
      },
      "source": [
        "arr1 = np.array([[1, 2], [3, 4], [9, 10]])\n",
        "\n",
        "arr2 = np.array([[5, 6], [7, 8], [11, 23]])\n",
        "\n",
        "arr = np.concatenate((arr1, arr2), axis=1)\n",
        "\n",
        "print(arr)\n"
      ],
      "execution_count": null,
      "outputs": [
        {
          "output_type": "stream",
          "text": [
            "[[ 1  2  5  6]\n",
            " [ 3  4  7  8]\n",
            " [ 9 10 11 23]]\n"
          ],
          "name": "stdout"
        }
      ]
    },
    {
      "cell_type": "code",
      "metadata": {
        "id": "SE0wlCqYHsJo",
        "colab_type": "code",
        "colab": {
          "base_uri": "https://localhost:8080/",
          "height": 72
        },
        "outputId": "09f80d08-9a1e-4590-e55d-d5ca9b43a73f"
      },
      "source": [
        "arr1 = np.array([1, 2, 3])\n",
        "\n",
        "arr2 = np.array([4, 5, 6])\n",
        "\n",
        "arr = np.stack((arr1, arr2), axis=1)\n",
        "\n",
        "print(arr)"
      ],
      "execution_count": null,
      "outputs": [
        {
          "output_type": "stream",
          "text": [
            "[[1 4]\n",
            " [2 5]\n",
            " [3 6]]\n"
          ],
          "name": "stdout"
        }
      ]
    },
    {
      "cell_type": "code",
      "metadata": {
        "id": "I-cxRdmFHyFu",
        "colab_type": "code",
        "colab": {
          "base_uri": "https://localhost:8080/",
          "height": 35
        },
        "outputId": "b9c74550-ae64-4f84-b02b-c26c75082195"
      },
      "source": [
        "arr1 = np.array([1, 2, 3])\n",
        "\n",
        "arr2 = np.array([4, 5, 6])\n",
        "\n",
        "arr = np.hstack((arr1, arr2))\n",
        "\n",
        "print(arr)\n"
      ],
      "execution_count": null,
      "outputs": [
        {
          "output_type": "stream",
          "text": [
            "[1 2 3 4 5 6]\n"
          ],
          "name": "stdout"
        }
      ]
    },
    {
      "cell_type": "code",
      "metadata": {
        "id": "0_K1OaQlH0xd",
        "colab_type": "code",
        "colab": {
          "base_uri": "https://localhost:8080/",
          "height": 90
        },
        "outputId": "1043aac0-724a-453f-8f8a-90ef82f2ef80"
      },
      "source": [
        "arr1 = np.array([[1, 2, 3],[ 8, 87, 65]])\n",
        "\n",
        "arr2 = np.array([[4, 5, 6], [64, 45, 34]])\n",
        "\n",
        "arr = np.vstack((arr1, arr2))\n",
        "\n",
        "print(arr)\n"
      ],
      "execution_count": null,
      "outputs": [
        {
          "output_type": "stream",
          "text": [
            "[[ 1  2  3]\n",
            " [ 8 87 65]\n",
            " [ 4  5  6]\n",
            " [64 45 34]]\n"
          ],
          "name": "stdout"
        }
      ]
    },
    {
      "cell_type": "code",
      "metadata": {
        "id": "MahIiT_FH3zg",
        "colab_type": "code",
        "colab": {
          "base_uri": "https://localhost:8080/",
          "height": 90
        },
        "outputId": "58dcb3b7-af9a-4f6f-8e75-5586cce226a6"
      },
      "source": [
        "arr1 = np.array([1, 2, 3])\n",
        "\n",
        "arr2 = np.array([4, 5, 6])\n",
        "\n",
        "arr = np.dstack((arr1, arr2))\n",
        "\n",
        "print(arr)\n",
        "print(arr.shape)"
      ],
      "execution_count": null,
      "outputs": [
        {
          "output_type": "stream",
          "text": [
            "[[[1 4]\n",
            "  [2 5]\n",
            "  [3 6]]]\n",
            "(1, 3, 2)\n"
          ],
          "name": "stdout"
        }
      ]
    },
    {
      "cell_type": "markdown",
      "metadata": {
        "id": "i_VWPeNTILCy",
        "colab_type": "text"
      },
      "source": [
        "#Filter"
      ]
    },
    {
      "cell_type": "code",
      "metadata": {
        "id": "Scc6caJ1IPsE",
        "colab_type": "code",
        "colab": {
          "base_uri": "https://localhost:8080/",
          "height": 54
        },
        "outputId": "b6772795-0fa3-4666-f7dc-b7fcc2a14c43"
      },
      "source": [
        "arr = np.array([1, 2, 3, 4, 5, 6, 7])\n",
        "\n",
        "filter_arr = (arr % 2 == 0)\n",
        "\n",
        "newarr = arr[filter_arr]\n",
        "\n",
        "print(filter_arr)\n",
        "print(newarr)"
      ],
      "execution_count": null,
      "outputs": [
        {
          "output_type": "stream",
          "text": [
            "[False  True False  True False  True False]\n",
            "[2 4 6]\n"
          ],
          "name": "stdout"
        }
      ]
    },
    {
      "cell_type": "code",
      "metadata": {
        "id": "20MewM7rQZ0T",
        "colab_type": "code",
        "colab": {
          "base_uri": "https://localhost:8080/",
          "height": 90
        },
        "outputId": "7704c2d6-43ab-4ce1-98c0-7d2e308a42f1"
      },
      "source": [
        "arr = np.array([1, 2, 3, 4, 5, 6, 7])\n",
        "\n",
        "arr = arr % 3\n",
        "\n",
        "print(arr)\n",
        "\n",
        "filter_arr = (arr > 5)\n",
        "\n",
        "\n",
        "arr = arr / 2\n",
        "\n",
        "print(arr)\n",
        "\n",
        "filter_arr = (arr > 2) & (arr < 5) \n",
        "\n",
        "\n",
        "newarr = arr[filter_arr]\n",
        "\n",
        "print(filter_arr)\n",
        "print(newarr)"
      ],
      "execution_count": null,
      "outputs": [
        {
          "output_type": "stream",
          "text": [
            "[1 2 0 1 2 0 1]\n",
            "[0.5 1.  0.  0.5 1.  0.  0.5]\n",
            "[False False False False False False False]\n",
            "[]\n"
          ],
          "name": "stdout"
        }
      ]
    },
    {
      "cell_type": "code",
      "metadata": {
        "id": "-zzxXuV1SmZn",
        "colab_type": "code",
        "colab": {
          "base_uri": "https://localhost:8080/",
          "height": 204
        },
        "outputId": "a2b57b17-6af7-477c-a3e0-8e85b564c285"
      },
      "source": [
        "import numpy as np \n",
        "a = np.arange(12).reshape(3,4) \n",
        "\n",
        "print('The original array is:') \n",
        "print(a)\n",
        "print('\\n') \n",
        "\n",
        "print('The transposed array is:') \n",
        "print(np.transpose(a))"
      ],
      "execution_count": 2,
      "outputs": [
        {
          "output_type": "stream",
          "text": [
            "The original array is:\n",
            "[[ 0  1  2  3]\n",
            " [ 4  5  6  7]\n",
            " [ 8  9 10 11]]\n",
            "\n",
            "\n",
            "The transposed array is:\n",
            "[[ 0  4  8]\n",
            " [ 1  5  9]\n",
            " [ 2  6 10]\n",
            " [ 3  7 11]]\n"
          ],
          "name": "stdout"
        }
      ]
    },
    {
      "cell_type": "code",
      "metadata": {
        "id": "NQTYLC5hS7TN",
        "colab_type": "code",
        "colab": {
          "base_uri": "https://localhost:8080/",
          "height": 153
        },
        "outputId": "b3195cac-8d78-4046-a2f9-9cc850ca1976"
      },
      "source": [
        "import numpy as np \n",
        "a = np.arange(4).reshape(2,2) \n",
        "\n",
        "print('The original array:') \n",
        "print(a)\n",
        "print('\\n')\n",
        "# now swap numbers between axis 0 (along depth) and axis 2 (along width) \n",
        "\n",
        "print('The array after applying the swapaxes function:') \n",
        "print(np.swapaxes(a, 1, 0))"
      ],
      "execution_count": 30,
      "outputs": [
        {
          "output_type": "stream",
          "text": [
            "The original array:\n",
            "[[0 1]\n",
            " [2 3]]\n",
            "\n",
            "\n",
            "The array after applying the swapaxes function:\n",
            "[[0 2]\n",
            " [1 3]]\n"
          ],
          "name": "stdout"
        }
      ]
    },
    {
      "cell_type": "code",
      "metadata": {
        "id": "9_VVDbSzTRNJ",
        "colab_type": "code",
        "colab": {
          "base_uri": "https://localhost:8080/",
          "height": 408
        },
        "outputId": "d98b22b8-6c80-49c1-b139-afe67316cb49"
      },
      "source": [
        "import numpy as np \n",
        "a = np.array([[1,2,3],[4,5,6]]) \n",
        "\n",
        "print('First array:')\n",
        "print(a) \n",
        "print('\\n')\n",
        "\n",
        "print('The shape of first array:') \n",
        "print(a.shape)\n",
        "print('\\n')  \n",
        "b = np.resize(a, (3,2)) \n",
        "\n",
        "print('Second array:') \n",
        "print(b)\n",
        "print('\\n')  \n",
        "\n",
        "print('The shape of second array:') \n",
        "print(b.shape)\n",
        "print('\\n')  \n",
        "# Observe that first row of a is repeated in b since size is bigger \n",
        "\n",
        "print('Resize the second array:') \n",
        "b = np.resize(a,(3,3))\n",
        "print(b)"
      ],
      "execution_count": 4,
      "outputs": [
        {
          "output_type": "stream",
          "text": [
            "First array:\n",
            "[[1 2 3]\n",
            " [4 5 6]]\n",
            "\n",
            "\n",
            "The shape of first array:\n",
            "(2, 3)\n",
            "\n",
            "\n",
            "Second array:\n",
            "[[1 2]\n",
            " [3 4]\n",
            " [5 6]]\n",
            "\n",
            "\n",
            "The shape of second array:\n",
            "(3, 2)\n",
            "\n",
            "\n",
            "Resize the second array:\n",
            "[[1 2 3]\n",
            " [4 5 6]\n",
            " [1 2 3]]\n"
          ],
          "name": "stdout"
        }
      ]
    },
    {
      "cell_type": "code",
      "metadata": {
        "id": "Zrdpd4ihTqN3",
        "colab_type": "code",
        "colab": {
          "base_uri": "https://localhost:8080/",
          "height": 306
        },
        "outputId": "26e1f4db-0d0e-4aa3-ff70-81ddfe5a4b8d"
      },
      "source": [
        "import numpy as np \n",
        "a = np.array([[1,2,3],[4,5,6]]) \n",
        "\n",
        "print('First array:') \n",
        "print(a.shape)\n",
        "print('\\n')  \n",
        "\n",
        "print('Append elements to array:') \n",
        "print(np.append(a, [7,8,9]))\n",
        "print('\\n')  \n",
        "\n",
        "print('Append elements along axis 0:') \n",
        "print(np.append(a, [[7,8,9]],axis = 0)) \n",
        "print('\\n')  \n",
        "\n",
        "print('Append elements along axis 1:') \n",
        "print(np.append(a, [[5,5,5],[7,8,9]],axis = 1))"
      ],
      "execution_count": 31,
      "outputs": [
        {
          "output_type": "stream",
          "text": [
            "First array:\n",
            "(2, 3)\n",
            "\n",
            "\n",
            "Append elements to array:\n",
            "[1 2 3 4 5 6 7 8 9]\n",
            "\n",
            "\n",
            "Append elements along axis 0:\n",
            "[[1 2 3]\n",
            " [4 5 6]\n",
            " [7 8 9]]\n",
            "\n",
            "\n",
            "Append elements along axis 1:\n",
            "[[1 2 3 5 5 5]\n",
            " [4 5 6 7 8 9]]\n"
          ],
          "name": "stdout"
        }
      ]
    },
    {
      "cell_type": "code",
      "metadata": {
        "id": "lqo1kdYEUgeO",
        "colab_type": "code",
        "colab": {
          "base_uri": "https://localhost:8080/",
          "height": 340
        },
        "outputId": "ff295290-2447-4a0b-f20d-9e5ccbfa41c0"
      },
      "source": [
        "import numpy as np \n",
        "a = np.array([[30,65,70],[80,95,10],[50,90,60]]) \n",
        "\n",
        "print('Our array is:') \n",
        "print(a )\n",
        "print('\\n')\n",
        "l = [30,65,70,80,95,10,50,90,60]\n",
        "l.sort()\n",
        "print(l)\n",
        "print(np.sum(a))\n",
        "\n",
        "print(np.average(a))\n",
        "\n",
        "print('Applying median() function:') \n",
        "print(np.median(a))\n",
        "print('\\n')  \n",
        "\n",
        "print('Applying median() function along axis 0:') \n",
        "print(np.median(a, axis = 0)) \n",
        "print('\\n') \n",
        " \n",
        "print('Applying median() function along axis 1:')\n",
        "print(np.median(a, axis = 1))"
      ],
      "execution_count": 39,
      "outputs": [
        {
          "output_type": "stream",
          "text": [
            "Our array is:\n",
            "[[30 65 70]\n",
            " [80 95 10]\n",
            " [50 90 60]]\n",
            "\n",
            "\n",
            "[10, 30, 50, 60, 65, 70, 80, 90, 95]\n",
            "550\n",
            "61.111111111111114\n",
            "Applying median() function:\n",
            "65.0\n",
            "\n",
            "\n",
            "Applying median() function along axis 0:\n",
            "[50. 90. 60.]\n",
            "\n",
            "\n",
            "Applying median() function along axis 1:\n",
            "[65. 80. 60.]\n"
          ],
          "name": "stdout"
        }
      ]
    },
    {
      "cell_type": "code",
      "metadata": {
        "id": "KGZ1kATRU3JN",
        "colab_type": "code",
        "colab": {
          "base_uri": "https://localhost:8080/",
          "height": 255
        },
        "outputId": "8c9f7339-d971-4cbf-f071-a5b2d314db0c"
      },
      "source": [
        "print(a )\n",
        "\n",
        "\n",
        "print('Applying mean() function:') \n",
        "print(np.mean(a))\n",
        "print('\\n')  \n",
        "\n",
        "print('Applying mean() function along axis 0:') \n",
        "print(np.mean(a, axis = 0)) \n",
        "print('\\n')  \n",
        "\n",
        "print('Applying mean() function along axis 1:')\n",
        "print(np.mean(a, axis = 1))\n",
        "\n",
        "print(np.average(a))"
      ],
      "execution_count": 38,
      "outputs": [
        {
          "output_type": "stream",
          "text": [
            "[[30 65 70]\n",
            " [80 95 10]\n",
            " [50 90 60]]\n",
            "Applying mean() function:\n",
            "61.111111111111114\n",
            "\n",
            "\n",
            "Applying mean() function along axis 0:\n",
            "[53.33333333 83.33333333 46.66666667]\n",
            "\n",
            "\n",
            "Applying mean() function along axis 1:\n",
            "[55.         61.66666667 66.66666667]\n",
            "61.111111111111114\n"
          ],
          "name": "stdout"
        }
      ]
    },
    {
      "cell_type": "markdown",
      "metadata": {
        "id": "XITWJMNiVwK_",
        "colab_type": "text"
      },
      "source": [
        "std = sqrt(mean(abs(x - x.mean())**2))\n"
      ]
    },
    {
      "cell_type": "code",
      "metadata": {
        "id": "QrlsTT0dVxAJ",
        "colab_type": "code",
        "colab": {
          "base_uri": "https://localhost:8080/",
          "height": 34
        },
        "outputId": "3d5e6c5e-698d-4cfd-f65d-27d8d819e883"
      },
      "source": [
        "import numpy as np \n",
        "print(np.std([1,2,3,4]))"
      ],
      "execution_count": 10,
      "outputs": [
        {
          "output_type": "stream",
          "text": [
            "1.118033988749895\n"
          ],
          "name": "stdout"
        }
      ]
    },
    {
      "cell_type": "markdown",
      "metadata": {
        "id": "D0tDoujwV9Ey",
        "colab_type": "text"
      },
      "source": [
        "var = mean(abs(x - x.mean())**2)*italicized text*"
      ]
    },
    {
      "cell_type": "code",
      "metadata": {
        "id": "xPlSuiCnV5ru",
        "colab_type": "code",
        "colab": {
          "base_uri": "https://localhost:8080/",
          "height": 34
        },
        "outputId": "9bf19026-2709-4565-87ed-e368653e6734"
      },
      "source": [
        "import numpy as np \n",
        "print(np.var([1,2,3,4]))"
      ],
      "execution_count": 11,
      "outputs": [
        {
          "output_type": "stream",
          "text": [
            "1.25\n"
          ],
          "name": "stdout"
        }
      ]
    }
  ]
}