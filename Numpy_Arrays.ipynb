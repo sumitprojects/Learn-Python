{
  "nbformat": 4,
  "nbformat_minor": 0,
  "metadata": {
    "kernelspec": {
      "display_name": "Python 3",
      "language": "python",
      "name": "python3"
    },
    "language_info": {
      "codemirror_mode": {
        "name": "ipython",
        "version": 3
      },
      "file_extension": ".py",
      "mimetype": "text/x-python",
      "name": "python",
      "nbconvert_exporter": "python",
      "pygments_lexer": "ipython3",
      "version": "3.7.4"
    },
    "colab": {
      "name": "Copy of Numpy-Arrays.ipynb",
      "provenance": [],
      "collapsed_sections": []
    }
  },
  "cells": [
    {
      "cell_type": "markdown",
      "metadata": {
        "id": "0kzj5-awdRPL",
        "colab_type": "text"
      },
      "source": [
        "## Numpy\n",
        "\n",
        "<img src='https://numpy.org/_static/numpy_logo.png'>\n",
        "\n",
        "NumPy is the fundamental package for scientific computing with Python. It contains among other things:\n",
        "\n",
        "* a powerful N-dimensional array object\n",
        "\n",
        "* sophisticated (broadcasting) functions\n",
        "\n",
        "* tools for integrating C/C++ and Fortran code\n",
        "\n",
        "* useful linear algebra, Fourier transform, and random number capabilities\n",
        "\n",
        "https://numpy.org/\n",
        "\n",
        "\n",
        "### Installation\n",
        "\n",
        "pip install numpy"
      ]
    },
    {
      "cell_type": "code",
      "metadata": {
        "id": "lHrOeY9adRPO",
        "colab_type": "code",
        "colab": {
          "base_uri": "https://localhost:8080/",
          "height": 34
        },
        "outputId": "f80a6a6e-a475-4db0-ee6e-1a3147418ff1"
      },
      "source": [
        "!pip install numpy"
      ],
      "execution_count": null,
      "outputs": [
        {
          "output_type": "stream",
          "text": [
            "Requirement already satisfied: numpy in /usr/local/lib/python3.6/dist-packages (1.18.2)\n"
          ],
          "name": "stdout"
        }
      ]
    },
    {
      "cell_type": "markdown",
      "metadata": {
        "id": "wtNwECHqdRPc",
        "colab_type": "text"
      },
      "source": [
        "#### Using numpy"
      ]
    },
    {
      "cell_type": "code",
      "metadata": {
        "id": "D3PgflOPdRPe",
        "colab_type": "code",
        "colab": {}
      },
      "source": [
        "import numpy as np # np is just an alias"
      ],
      "execution_count": 2,
      "outputs": []
    },
    {
      "cell_type": "markdown",
      "metadata": {
        "id": "6HX37iM9dRPn",
        "colab_type": "text"
      },
      "source": [
        "#### Numpy Arrays\n",
        "\n",
        "Two forms of numpy arrays:\n",
        "\n",
        "* Vectors - 1-Dimensional\n",
        "* Matrices - 2-Dimensional"
      ]
    },
    {
      "cell_type": "markdown",
      "metadata": {
        "id": "FGjXc-endRPq",
        "colab_type": "text"
      },
      "source": [
        "### Creating numpy arrays\n",
        "\n",
        "* From Python List"
      ]
    },
    {
      "cell_type": "code",
      "metadata": {
        "id": "mLV7SInkdRPu",
        "colab_type": "code",
        "colab": {
          "base_uri": "https://localhost:8080/",
          "height": 34
        },
        "outputId": "1e793feb-9568-4466-b29b-ddbbb607a543"
      },
      "source": [
        "lst = [1,2,3,4,5]\n",
        "\n",
        "lst"
      ],
      "execution_count": 3,
      "outputs": [
        {
          "output_type": "execute_result",
          "data": {
            "text/plain": [
              "[1, 2, 3, 4, 5]"
            ]
          },
          "metadata": {
            "tags": []
          },
          "execution_count": 3
        }
      ]
    },
    {
      "cell_type": "code",
      "metadata": {
        "id": "3O9SD398dRP3",
        "colab_type": "code",
        "colab": {
          "base_uri": "https://localhost:8080/",
          "height": 34
        },
        "outputId": "4d8efe4a-f29c-4f30-b279-22dd4335648b"
      },
      "source": [
        "np.array(lst)"
      ],
      "execution_count": 4,
      "outputs": [
        {
          "output_type": "execute_result",
          "data": {
            "text/plain": [
              "array([1, 2, 3, 4, 5])"
            ]
          },
          "metadata": {
            "tags": []
          },
          "execution_count": 4
        }
      ]
    },
    {
      "cell_type": "code",
      "metadata": {
        "id": "PfmeOGpndRQB",
        "colab_type": "code",
        "colab": {
          "base_uri": "https://localhost:8080/",
          "height": 34
        },
        "outputId": "6dc3c538-d587-413b-9c3c-9f888db97852"
      },
      "source": [
        "matrix = [[1,2,3],[4,5,6],[7,8,9]]\n",
        "matrix"
      ],
      "execution_count": 5,
      "outputs": [
        {
          "output_type": "execute_result",
          "data": {
            "text/plain": [
              "[[1, 2, 3], [4, 5, 6], [7, 8, 9]]"
            ]
          },
          "metadata": {
            "tags": []
          },
          "execution_count": 5
        }
      ]
    },
    {
      "cell_type": "code",
      "metadata": {
        "id": "S6_wn1jWdRQM",
        "colab_type": "code",
        "colab": {
          "base_uri": "https://localhost:8080/",
          "height": 68
        },
        "outputId": "3ba8de58-8f55-4aa1-9b6f-0eba5ad83179"
      },
      "source": [
        "np.array(matrix)"
      ],
      "execution_count": 6,
      "outputs": [
        {
          "output_type": "execute_result",
          "data": {
            "text/plain": [
              "array([[1, 2, 3],\n",
              "       [4, 5, 6],\n",
              "       [7, 8, 9]])"
            ]
          },
          "metadata": {
            "tags": []
          },
          "execution_count": 6
        }
      ]
    },
    {
      "cell_type": "markdown",
      "metadata": {
        "id": "4V9lCiT0dRQW",
        "colab_type": "text"
      },
      "source": [
        "### Built-in methods for numpy array"
      ]
    },
    {
      "cell_type": "markdown",
      "metadata": {
        "id": "U5JziDSBdRQY",
        "colab_type": "text"
      },
      "source": [
        "#### arange : Returns evenly spaced values within a given interval"
      ]
    },
    {
      "cell_type": "code",
      "metadata": {
        "id": "Ne-QCMX7dRQZ",
        "colab_type": "code",
        "colab": {
          "base_uri": "https://localhost:8080/",
          "height": 51
        },
        "outputId": "81933aef-af47-4ccc-ad00-c146b9099d08"
      },
      "source": [
        "lst = [x for x in range(0,10)]\n",
        "print('python ' , lst)\n",
        "\n",
        "\n",
        "print('nump ' , np.arange(0,10))"
      ],
      "execution_count": 7,
      "outputs": [
        {
          "output_type": "stream",
          "text": [
            "python  [0, 1, 2, 3, 4, 5, 6, 7, 8, 9]\n",
            "nump  [0 1 2 3 4 5 6 7 8 9]\n"
          ],
          "name": "stdout"
        }
      ]
    },
    {
      "cell_type": "code",
      "metadata": {
        "id": "c2CSgW4ZdRQk",
        "colab_type": "code",
        "colab": {
          "base_uri": "https://localhost:8080/",
          "height": 51
        },
        "outputId": "d299f07a-6385-4b87-fb6f-68b69e3647f0"
      },
      "source": [
        "lst = [x for x in range(0,10,2)]\n",
        "print('python ' , lst)\n",
        "\n",
        "\n",
        "print('nump ' , np.arange(0,10,2))"
      ],
      "execution_count": 8,
      "outputs": [
        {
          "output_type": "stream",
          "text": [
            "python  [0, 2, 4, 6, 8]\n",
            "nump  [0 2 4 6 8]\n"
          ],
          "name": "stdout"
        }
      ]
    },
    {
      "cell_type": "markdown",
      "metadata": {
        "id": "8T0RG0tKdRQs",
        "colab_type": "text"
      },
      "source": [
        "#### zeros and ones\n",
        "Generate arrays of zeros and ones"
      ]
    },
    {
      "cell_type": "code",
      "metadata": {
        "id": "XorZgKK_dRQt",
        "colab_type": "code",
        "colab": {
          "base_uri": "https://localhost:8080/",
          "height": 34
        },
        "outputId": "5c1d43c4-df1f-4633-f557-295fed6aff57"
      },
      "source": [
        "np.zeros(3)"
      ],
      "execution_count": 9,
      "outputs": [
        {
          "output_type": "execute_result",
          "data": {
            "text/plain": [
              "array([0., 0., 0.])"
            ]
          },
          "metadata": {
            "tags": []
          },
          "execution_count": 9
        }
      ]
    },
    {
      "cell_type": "code",
      "metadata": {
        "id": "wAVApkwfdRQz",
        "colab_type": "code",
        "colab": {
          "base_uri": "https://localhost:8080/",
          "height": 493
        },
        "outputId": "712414de-d616-4b3a-8c19-52e5fc99d546"
      },
      "source": [
        "np.zeros((3,3,2,2))"
      ],
      "execution_count": 11,
      "outputs": [
        {
          "output_type": "execute_result",
          "data": {
            "text/plain": [
              "array([[[[0., 0.],\n",
              "         [0., 0.]],\n",
              "\n",
              "        [[0., 0.],\n",
              "         [0., 0.]],\n",
              "\n",
              "        [[0., 0.],\n",
              "         [0., 0.]]],\n",
              "\n",
              "\n",
              "       [[[0., 0.],\n",
              "         [0., 0.]],\n",
              "\n",
              "        [[0., 0.],\n",
              "         [0., 0.]],\n",
              "\n",
              "        [[0., 0.],\n",
              "         [0., 0.]]],\n",
              "\n",
              "\n",
              "       [[[0., 0.],\n",
              "         [0., 0.]],\n",
              "\n",
              "        [[0., 0.],\n",
              "         [0., 0.]],\n",
              "\n",
              "        [[0., 0.],\n",
              "         [0., 0.]]]])"
            ]
          },
          "metadata": {
            "tags": []
          },
          "execution_count": 11
        }
      ]
    },
    {
      "cell_type": "code",
      "metadata": {
        "id": "fZpcf-CndRQ9",
        "colab_type": "code",
        "colab": {
          "base_uri": "https://localhost:8080/",
          "height": 34
        },
        "outputId": "cf08784b-a31d-411a-da15-a1fa5d0df3bb"
      },
      "source": [
        "np.ones(4)"
      ],
      "execution_count": 12,
      "outputs": [
        {
          "output_type": "execute_result",
          "data": {
            "text/plain": [
              "array([1., 1., 1., 1.])"
            ]
          },
          "metadata": {
            "tags": []
          },
          "execution_count": 12
        }
      ]
    },
    {
      "cell_type": "code",
      "metadata": {
        "id": "TSDigem2dRRC",
        "colab_type": "code",
        "colab": {
          "base_uri": "https://localhost:8080/",
          "height": 340
        },
        "outputId": "ab925a34-a6bd-4dae-dd9a-7fdf2f7d50a4"
      },
      "source": [
        "np.ones((4,4,4))"
      ],
      "execution_count": 14,
      "outputs": [
        {
          "output_type": "execute_result",
          "data": {
            "text/plain": [
              "array([[[1., 1., 1., 1.],\n",
              "        [1., 1., 1., 1.],\n",
              "        [1., 1., 1., 1.],\n",
              "        [1., 1., 1., 1.]],\n",
              "\n",
              "       [[1., 1., 1., 1.],\n",
              "        [1., 1., 1., 1.],\n",
              "        [1., 1., 1., 1.],\n",
              "        [1., 1., 1., 1.]],\n",
              "\n",
              "       [[1., 1., 1., 1.],\n",
              "        [1., 1., 1., 1.],\n",
              "        [1., 1., 1., 1.],\n",
              "        [1., 1., 1., 1.]],\n",
              "\n",
              "       [[1., 1., 1., 1.],\n",
              "        [1., 1., 1., 1.],\n",
              "        [1., 1., 1., 1.],\n",
              "        [1., 1., 1., 1.]]])"
            ]
          },
          "metadata": {
            "tags": []
          },
          "execution_count": 14
        }
      ]
    },
    {
      "cell_type": "markdown",
      "metadata": {
        "id": "O4QvJUI4dRRI",
        "colab_type": "text"
      },
      "source": [
        "#### linspace\n",
        "Returns evenly spaced numbers over a specified interval"
      ]
    },
    {
      "cell_type": "code",
      "metadata": {
        "id": "U60fOCeUdRRJ",
        "colab_type": "code",
        "colab": {
          "base_uri": "https://localhost:8080/",
          "height": 34
        },
        "outputId": "c1bf39e4-37a0-4ede-df5c-2082c72f8dfe"
      },
      "source": [
        "np.linspace(0,100,5)"
      ],
      "execution_count": 17,
      "outputs": [
        {
          "output_type": "execute_result",
          "data": {
            "text/plain": [
              "array([  0.,  25.,  50.,  75., 100.])"
            ]
          },
          "metadata": {
            "tags": []
          },
          "execution_count": 17
        }
      ]
    },
    {
      "cell_type": "code",
      "metadata": {
        "id": "Zbn95P1ndRRP",
        "colab_type": "code",
        "colab": {
          "base_uri": "https://localhost:8080/",
          "height": 153
        },
        "outputId": "c5ee8257-be50-49a6-daaf-9ac609c89c5e"
      },
      "source": [
        "np.linspace(0,100,30)"
      ],
      "execution_count": 18,
      "outputs": [
        {
          "output_type": "execute_result",
          "data": {
            "text/plain": [
              "array([  0.        ,   3.44827586,   6.89655172,  10.34482759,\n",
              "        13.79310345,  17.24137931,  20.68965517,  24.13793103,\n",
              "        27.5862069 ,  31.03448276,  34.48275862,  37.93103448,\n",
              "        41.37931034,  44.82758621,  48.27586207,  51.72413793,\n",
              "        55.17241379,  58.62068966,  62.06896552,  65.51724138,\n",
              "        68.96551724,  72.4137931 ,  75.86206897,  79.31034483,\n",
              "        82.75862069,  86.20689655,  89.65517241,  93.10344828,\n",
              "        96.55172414, 100.        ])"
            ]
          },
          "metadata": {
            "tags": []
          },
          "execution_count": 18
        }
      ]
    },
    {
      "cell_type": "markdown",
      "metadata": {
        "id": "seZNyM8tdRRU",
        "colab_type": "text"
      },
      "source": [
        "#### eye\n",
        "Creates an identity matrix"
      ]
    },
    {
      "cell_type": "code",
      "metadata": {
        "id": "K9fxFN6QdRRV",
        "colab_type": "code",
        "colab": {
          "base_uri": "https://localhost:8080/"
        },
        "outputId": "49b3ada5-2cfd-4d7e-91ae-55a210adb402"
      },
      "source": [
        "np.eye(4)"
      ],
      "execution_count": null,
      "outputs": [
        {
          "output_type": "execute_result",
          "data": {
            "text/plain": [
              "array([[1., 0., 0., 0.],\n",
              "       [0., 1., 0., 0.],\n",
              "       [0., 0., 1., 0.],\n",
              "       [0., 0., 0., 1.]])"
            ]
          },
          "metadata": {
            "tags": []
          },
          "execution_count": 15
        }
      ]
    },
    {
      "cell_type": "markdown",
      "metadata": {
        "id": "-rT49jKDdRRb",
        "colab_type": "text"
      },
      "source": [
        "#### Random\n",
        "\n",
        "Numpy has lots of ways to create random number arrays\n",
        "\n",
        "* rand\n",
        "* randn\n",
        "* randint\n",
        "\n",
        "#### rand\n",
        "Create and array of the given shape and populate it with the random samples from a uniform distribution over [0,1]"
      ]
    },
    {
      "cell_type": "code",
      "metadata": {
        "id": "naAlZpNFdRRd",
        "colab_type": "code",
        "colab": {
          "base_uri": "https://localhost:8080/",
          "height": 51
        },
        "outputId": "3e425f76-748e-42c8-abb0-1a44f3abf5a3"
      },
      "source": [
        "np.random.rand(10)"
      ],
      "execution_count": 20,
      "outputs": [
        {
          "output_type": "execute_result",
          "data": {
            "text/plain": [
              "array([0.27642762, 0.69015905, 0.32005833, 0.5412815 , 0.30905583,\n",
              "       0.94047679, 0.76034139, 0.23973476, 0.73781022, 0.25287335])"
            ]
          },
          "metadata": {
            "tags": []
          },
          "execution_count": 20
        }
      ]
    },
    {
      "cell_type": "code",
      "metadata": {
        "id": "uqUcu7ZOdRRk",
        "colab_type": "code",
        "colab": {
          "base_uri": "https://localhost:8080/",
          "height": 102
        },
        "outputId": "6a71974a-21aa-4a46-a48c-d2a1a062dfc6"
      },
      "source": [
        "np.random.rand(5,5)"
      ],
      "execution_count": 21,
      "outputs": [
        {
          "output_type": "execute_result",
          "data": {
            "text/plain": [
              "array([[0.80212169, 0.82442243, 0.61085757, 0.16925331, 0.55786904],\n",
              "       [0.5147479 , 0.4837179 , 0.06090766, 0.21467588, 0.81489563],\n",
              "       [0.43878288, 0.46159797, 0.73456678, 0.3332035 , 0.06198475],\n",
              "       [0.0938418 , 0.31664451, 0.87827619, 0.58036278, 0.22679392],\n",
              "       [0.26363638, 0.51565293, 0.68286055, 0.48721234, 0.66874349]])"
            ]
          },
          "metadata": {
            "tags": []
          },
          "execution_count": 21
        }
      ]
    },
    {
      "cell_type": "markdown",
      "metadata": {
        "id": "SduwHBqSdRRs",
        "colab_type": "text"
      },
      "source": [
        "#### randn\n",
        "Creates a sample/samples from the standard normal distribution unlike rand which is uniform distribution"
      ]
    },
    {
      "cell_type": "code",
      "metadata": {
        "id": "p_GpCwdXdRRt",
        "colab_type": "code",
        "colab": {
          "base_uri": "https://localhost:8080/",
          "height": 34
        },
        "outputId": "755a4d72-345d-4339-ae54-023065ef0861"
      },
      "source": [
        "np.random.randn(4)"
      ],
      "execution_count": 22,
      "outputs": [
        {
          "output_type": "execute_result",
          "data": {
            "text/plain": [
              "array([ 0.13763173, -0.74978079,  0.21787259,  0.6769874 ])"
            ]
          },
          "metadata": {
            "tags": []
          },
          "execution_count": 22
        }
      ]
    },
    {
      "cell_type": "code",
      "metadata": {
        "id": "6d1tF6pJdRRx",
        "colab_type": "code",
        "colab": {
          "base_uri": "https://localhost:8080/"
        },
        "outputId": "a6ddedf1-8160-495f-edff-65897aa1118f"
      },
      "source": [
        "np.random.randn(4,4)"
      ],
      "execution_count": null,
      "outputs": [
        {
          "output_type": "execute_result",
          "data": {
            "text/plain": [
              "array([[-1.24608359,  1.06017413, -0.55649202,  0.85525937],\n",
              "       [-0.28757841,  0.76354165,  0.39220929, -0.68843735],\n",
              "       [-0.58855344,  0.19332342, -0.05121918,  0.10866021],\n",
              "       [-0.98193474, -0.86288538,  0.86468409, -1.88508482]])"
            ]
          },
          "metadata": {
            "tags": []
          },
          "execution_count": 19
        }
      ]
    },
    {
      "cell_type": "markdown",
      "metadata": {
        "id": "L67WqT02dRR1",
        "colab_type": "text"
      },
      "source": [
        "#### randint\n",
        "Returns random integers from low (included) to high (excluded)"
      ]
    },
    {
      "cell_type": "code",
      "metadata": {
        "id": "TnTZEiBvdRR2",
        "colab_type": "code",
        "colab": {
          "base_uri": "https://localhost:8080/",
          "height": 34
        },
        "outputId": "063f664c-e2c6-4739-bba3-62097cf6f81c"
      },
      "source": [
        "np.random.randint(0,100)"
      ],
      "execution_count": 26,
      "outputs": [
        {
          "output_type": "execute_result",
          "data": {
            "text/plain": [
              "7"
            ]
          },
          "metadata": {
            "tags": []
          },
          "execution_count": 26
        }
      ]
    },
    {
      "cell_type": "code",
      "metadata": {
        "id": "1LVXteWmdRR5",
        "colab_type": "code",
        "colab": {
          "base_uri": "https://localhost:8080/",
          "height": 51
        },
        "outputId": "0a80877c-a2a1-4c32-b164-04fdfc13c1a2"
      },
      "source": [
        "np.random.randint(1,100,20)"
      ],
      "execution_count": 27,
      "outputs": [
        {
          "output_type": "execute_result",
          "data": {
            "text/plain": [
              "array([38,  4, 83, 99, 52, 13, 57, 94, 92,  1, 86, 27,  7, 43, 31, 38, 13,\n",
              "       79, 43, 81])"
            ]
          },
          "metadata": {
            "tags": []
          },
          "execution_count": 27
        }
      ]
    },
    {
      "cell_type": "markdown",
      "metadata": {
        "id": "MtwDaDLJdRR9",
        "colab_type": "text"
      },
      "source": [
        "### Array attributes and methods"
      ]
    },
    {
      "cell_type": "code",
      "metadata": {
        "id": "QNn50EAMdRR-",
        "colab_type": "code",
        "colab": {}
      },
      "source": [
        "arr = np.arange(25)\n",
        "ranarr = np.random.randint(0,50,10)"
      ],
      "execution_count": null,
      "outputs": []
    },
    {
      "cell_type": "code",
      "metadata": {
        "id": "c3TuIe68dRSD",
        "colab_type": "code",
        "colab": {
          "base_uri": "https://localhost:8080/",
          "height": 51
        },
        "outputId": "4bf6fd2a-f12e-4037-851c-0bef9101131d"
      },
      "source": [
        "arr"
      ],
      "execution_count": null,
      "outputs": [
        {
          "output_type": "execute_result",
          "data": {
            "text/plain": [
              "array([ 0,  1,  2,  3,  4,  5,  6,  7,  8,  9, 10, 11, 12, 13, 14, 15, 16,\n",
              "       17, 18, 19, 20, 21, 22, 23, 24])"
            ]
          },
          "metadata": {
            "tags": []
          },
          "execution_count": 23
        }
      ]
    },
    {
      "cell_type": "code",
      "metadata": {
        "id": "ti9vGhtbdRSH",
        "colab_type": "code",
        "colab": {
          "base_uri": "https://localhost:8080/",
          "height": 34
        },
        "outputId": "56b78ecc-9d0a-4793-e511-e7467cbf5422"
      },
      "source": [
        "ranarr"
      ],
      "execution_count": null,
      "outputs": [
        {
          "output_type": "execute_result",
          "data": {
            "text/plain": [
              "array([48, 17, 30, 10, 38,  7, 30, 43, 41, 13])"
            ]
          },
          "metadata": {
            "tags": []
          },
          "execution_count": 24
        }
      ]
    },
    {
      "cell_type": "markdown",
      "metadata": {
        "id": "kGg4bCYfdRSL",
        "colab_type": "text"
      },
      "source": [
        "### Reshape\n",
        "\n",
        "Returns an array containing same data but different shape"
      ]
    },
    {
      "cell_type": "code",
      "metadata": {
        "id": "SojHPHW6dRSM",
        "colab_type": "code",
        "colab": {
          "base_uri": "https://localhost:8080/",
          "height": 102
        },
        "outputId": "2ae6fed9-ab10-4c83-e2ef-3873c3995e1b"
      },
      "source": [
        "arr.reshape(5,5)"
      ],
      "execution_count": null,
      "outputs": [
        {
          "output_type": "execute_result",
          "data": {
            "text/plain": [
              "array([[ 0,  1,  2,  3,  4],\n",
              "       [ 5,  6,  7,  8,  9],\n",
              "       [10, 11, 12, 13, 14],\n",
              "       [15, 16, 17, 18, 19],\n",
              "       [20, 21, 22, 23, 24]])"
            ]
          },
          "metadata": {
            "tags": []
          },
          "execution_count": 25
        }
      ]
    },
    {
      "cell_type": "markdown",
      "metadata": {
        "id": "N35RQSxidRSP",
        "colab_type": "text"
      },
      "source": [
        "#### max, min,argmax,argmin\n",
        "\n",
        "Useful methods to find minimum and maximum values or index locations."
      ]
    },
    {
      "cell_type": "code",
      "metadata": {
        "id": "TnVDaRuTdRSQ",
        "colab_type": "code",
        "colab": {
          "base_uri": "https://localhost:8080/"
        },
        "outputId": "52e32a6e-93ec-4578-b2a4-b0599da2a3a0"
      },
      "source": [
        "ranarr"
      ],
      "execution_count": null,
      "outputs": [
        {
          "output_type": "execute_result",
          "data": {
            "text/plain": [
              "array([48, 17, 30, 10, 38,  7, 30, 43, 41, 13])"
            ]
          },
          "metadata": {
            "tags": []
          },
          "execution_count": 26
        }
      ]
    },
    {
      "cell_type": "code",
      "metadata": {
        "id": "T38wiKCHdRST",
        "colab_type": "code",
        "colab": {
          "base_uri": "https://localhost:8080/"
        },
        "outputId": "e4824a83-7508-4b3f-bbfa-0e2749290b97"
      },
      "source": [
        "ranarr.max()"
      ],
      "execution_count": null,
      "outputs": [
        {
          "output_type": "execute_result",
          "data": {
            "text/plain": [
              "48"
            ]
          },
          "metadata": {
            "tags": []
          },
          "execution_count": 27
        }
      ]
    },
    {
      "cell_type": "code",
      "metadata": {
        "id": "Nh05n7mydRSX",
        "colab_type": "code",
        "colab": {
          "base_uri": "https://localhost:8080/"
        },
        "outputId": "8a64eff8-754f-438b-e9a1-3fa4aa3d92f9"
      },
      "source": [
        "ranarr.argmax()"
      ],
      "execution_count": null,
      "outputs": [
        {
          "output_type": "execute_result",
          "data": {
            "text/plain": [
              "0"
            ]
          },
          "metadata": {
            "tags": []
          },
          "execution_count": 28
        }
      ]
    },
    {
      "cell_type": "code",
      "metadata": {
        "id": "htIJSyL_dRSb",
        "colab_type": "code",
        "colab": {
          "base_uri": "https://localhost:8080/"
        },
        "outputId": "1896061c-c7c1-4308-cf07-46e312109ce0"
      },
      "source": [
        "ranarr.min()"
      ],
      "execution_count": null,
      "outputs": [
        {
          "output_type": "execute_result",
          "data": {
            "text/plain": [
              "7"
            ]
          },
          "metadata": {
            "tags": []
          },
          "execution_count": 29
        }
      ]
    },
    {
      "cell_type": "code",
      "metadata": {
        "id": "Wq2a2uiUdRSf",
        "colab_type": "code",
        "colab": {
          "base_uri": "https://localhost:8080/"
        },
        "outputId": "b56cd382-0bb6-497c-9767-edad911fcf35"
      },
      "source": [
        "ranarr.argmin()"
      ],
      "execution_count": null,
      "outputs": [
        {
          "output_type": "execute_result",
          "data": {
            "text/plain": [
              "5"
            ]
          },
          "metadata": {
            "tags": []
          },
          "execution_count": 30
        }
      ]
    },
    {
      "cell_type": "markdown",
      "metadata": {
        "id": "YwFuhJ1_dRSi",
        "colab_type": "text"
      },
      "source": [
        "### Shape\n",
        "Shape is an attribute that arrays have"
      ]
    },
    {
      "cell_type": "code",
      "metadata": {
        "id": "kyIqaqtZdRSj",
        "colab_type": "code",
        "colab": {
          "base_uri": "https://localhost:8080/",
          "height": 34
        },
        "outputId": "4a173324-dfda-456a-9539-641a53601e61"
      },
      "source": [
        "arr.shape"
      ],
      "execution_count": null,
      "outputs": [
        {
          "output_type": "execute_result",
          "data": {
            "text/plain": [
              "(25,)"
            ]
          },
          "metadata": {
            "tags": []
          },
          "execution_count": 31
        }
      ]
    },
    {
      "cell_type": "code",
      "metadata": {
        "id": "0e_pHDeXdRSm",
        "colab_type": "code",
        "colab": {
          "base_uri": "https://localhost:8080/",
          "height": 34
        },
        "outputId": "8645352f-ab62-409b-9cb6-ed90799e36a0"
      },
      "source": [
        "arr.reshape(1,25).shape"
      ],
      "execution_count": null,
      "outputs": [
        {
          "output_type": "execute_result",
          "data": {
            "text/plain": [
              "(1, 25)"
            ]
          },
          "metadata": {
            "tags": []
          },
          "execution_count": 32
        }
      ]
    },
    {
      "cell_type": "code",
      "metadata": {
        "id": "DmggG2BJdRSr",
        "colab_type": "code",
        "colab": {
          "base_uri": "https://localhost:8080/",
          "height": 34
        },
        "outputId": "1384f9b3-7c49-4fcf-d79e-e0d108849408"
      },
      "source": [
        "arr.reshape(25,1).shape"
      ],
      "execution_count": null,
      "outputs": [
        {
          "output_type": "execute_result",
          "data": {
            "text/plain": [
              "(25, 1)"
            ]
          },
          "metadata": {
            "tags": []
          },
          "execution_count": 33
        }
      ]
    },
    {
      "cell_type": "markdown",
      "metadata": {
        "id": "XAb-t7HtdRSv",
        "colab_type": "text"
      },
      "source": [
        "### dtype\n",
        "Data type of object in array"
      ]
    },
    {
      "cell_type": "code",
      "metadata": {
        "id": "QLBiLTWhdRSv",
        "colab_type": "code",
        "colab": {
          "base_uri": "https://localhost:8080/",
          "height": 34
        },
        "outputId": "c5b8884e-fe96-430e-d1f8-a6d67c0dbeaa"
      },
      "source": [
        "arr.dtype"
      ],
      "execution_count": null,
      "outputs": [
        {
          "output_type": "execute_result",
          "data": {
            "text/plain": [
              "dtype('int64')"
            ]
          },
          "metadata": {
            "tags": []
          },
          "execution_count": 34
        }
      ]
    },
    {
      "cell_type": "markdown",
      "metadata": {
        "id": "fsr9mN76dRSz",
        "colab_type": "text"
      },
      "source": [
        "# Great Job !!"
      ]
    }
  ]
}